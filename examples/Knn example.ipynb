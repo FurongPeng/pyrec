{
 "cells": [
  {
   "cell_type": "code",
   "execution_count": 1,
   "metadata": {
    "collapsed": true
   },
   "outputs": [],
   "source": [
    "from pyrec.utils.data_utils.data import Data, loadDataset\n",
    "from pyrec.utils.data_utils.lineParser import UserItemRatingParser"
   ]
  },
  {
   "cell_type": "code",
   "execution_count": 13,
   "metadata": {
    "collapsed": true
   },
   "outputs": [],
   "source": [
    "train_path = TRAIN_DATA_PATH\n",
    "test_path = TEST_DATA_PATH"
   ]
  },
  {
   "cell_type": "markdown",
   "metadata": {},
   "source": [
    "<h1>Load Data</h1>"
   ]
  },
  {
   "cell_type": "code",
   "execution_count": 24,
   "metadata": {
    "collapsed": false
   },
   "outputs": [],
   "source": [
    "parser = UserItemRatingParser(delim=\"\\t\")\n",
    "d = Data()\n",
    "d.import_data(train_path, parser)\n",
    "train = d.R\n",
    "test, _ = loadDataset(test_path, d.users, d.items, parser)"
   ]
  },
  {
   "cell_type": "markdown",
   "metadata": {},
   "source": [
    "<h1> Learn Model </h1>"
   ]
  },
  {
   "cell_type": "code",
   "execution_count": 15,
   "metadata": {
    "collapsed": false
   },
   "outputs": [],
   "source": [
    "from pyrec.recommender.linear_models.neighborhood.knn import KnnReco\n",
    "from pyrec.recommender.modelArgs import KnnArgs\n",
    "from pyrec.evaluate.eval_ranking_metric import evalMetricsParallelMiniBatch\n",
    "from pyrec.utils.distance_metric.similarity import jaccardSimilarity\n",
    "\n",
    "neighborhood = 10\n",
    "model_type = \"item\"\n",
    "arg = KnnArgs(jaccardSimilarity, neighborhood, model_type)\n",
    "model = KnnReco(arg)\n",
    "model.fit(train)"
   ]
  },
  {
   "cell_type": "markdown",
   "metadata": {},
   "source": [
    "<h3> Model evaluation </h3>"
   ]
  },
  {
   "cell_type": "code",
   "execution_count": 19,
   "metadata": {
    "collapsed": false
   },
   "outputs": [],
   "source": [
    "from pyrec.evaluate.eval_ranking_metric import evalMetricsParallelMiniBatch\n",
    "mapat100, prec, recall, num_data =evalMetricsParallelMiniBatch(train, train, test, model, mapk=100, ks=[3, 5, 10, 20])"
   ]
  },
  {
   "cell_type": "code",
   "execution_count": 25,
   "metadata": {
    "collapsed": false
   },
   "outputs": [],
   "source": [
    "print \"Evalution on %d user-item pairs \" %(num_data)\n",
    "print \"Map@100 : %g\" % mapat100\n",
    "print \"precision@{3,5,10,20} : %s\" % prec\n",
    "print \"recall@{3,5,10,20} : %s\" % recall"
   ]
  },
  {
   "cell_type": "code",
   "execution_count": null,
   "metadata": {
    "collapsed": true
   },
   "outputs": [],
   "source": []
  }
 ],
 "metadata": {
  "kernelspec": {
   "display_name": "Python 2",
   "language": "python",
   "name": "python2"
  },
  "language_info": {
   "codemirror_mode": {
    "name": "ipython",
    "version": 2
   },
   "file_extension": ".py",
   "mimetype": "text/x-python",
   "name": "python",
   "nbconvert_exporter": "python",
   "pygments_lexer": "ipython2",
   "version": "2.7.11"
  }
 },
 "nbformat": 4,
 "nbformat_minor": 0
}
